{
 "cells": [
  {
   "cell_type": "code",
   "execution_count": 1,
   "id": "561ffb4f",
   "metadata": {},
   "outputs": [],
   "source": [
    "import numpy as np\n",
    "import pandas as pd\n",
    "import matplotlib.pyplot as plt\n",
    "from keras.layers import LSTM, Dropout, Dense\n",
    "from tensorflow.keras.models import Sequential"
   ]
  },
  {
   "cell_type": "code",
   "execution_count": 2,
   "id": "1c3ee417",
   "metadata": {},
   "outputs": [],
   "source": [
    "dataset_train = pd.read_csv('Google_Stock_Price_Train.csv')\n",
    "\n",
    "#keras only takes numpy array\n",
    "training_set = dataset_train.iloc[:, 1: 2].values"
   ]
  },
  {
   "cell_type": "code",
   "execution_count": 3,
   "id": "498cea26",
   "metadata": {},
   "outputs": [],
   "source": [
    "# Feature scaling\n",
    "\n",
    "from sklearn.preprocessing import MinMaxScaler\n",
    "sc = MinMaxScaler(feature_range = (0, 1))\n",
    "training_set_scaled = sc.fit_transform(training_set)"
   ]
  },
  {
   "cell_type": "code",
   "execution_count": 4,
   "id": "410ddecb",
   "metadata": {},
   "outputs": [],
   "source": [
    "# Data structure creation\n",
    "\n",
    "X_train = []\n",
    "y_train = []\n",
    "for i in range(60, len(training_set_scaled)):\n",
    "    X_train.append(training_set_scaled[i-60: i, 0])\n",
    "    y_train.append(training_set_scaled[i, 0])\n",
    "    \n",
    "X_train, y_train = np.array(X_train), np.array(y_train)"
   ]
  },
  {
   "cell_type": "code",
   "execution_count": 5,
   "id": "535581bf",
   "metadata": {},
   "outputs": [],
   "source": [
    "# Data reshaping\n",
    "\n",
    "X_train = np.reshape(X_train, newshape = (X_train.shape[0], X_train.shape[1], 1))"
   ]
  },
  {
   "cell_type": "code",
   "execution_count": 6,
   "id": "4588b425",
   "metadata": {},
   "outputs": [],
   "source": [
    "# Model building\n",
    "\n",
    "regressor = Sequential()"
   ]
  },
  {
   "cell_type": "code",
   "execution_count": 7,
   "id": "07f3832f",
   "metadata": {},
   "outputs": [],
   "source": [
    "# Add the 1st LSTM layer with the Dropout layer followed.\n",
    "\n",
    "regressor.add(LSTM(units = 50, return_sequences = True, input_shape = (X_train.shape[1], 1)))\n",
    "regressor.add(Dropout(rate = 0.2))"
   ]
  },
  {
   "cell_type": "code",
   "execution_count": 8,
   "id": "c2da8915",
   "metadata": {},
   "outputs": [],
   "source": [
    "## Add 2nd lstm layer\n",
    "regressor.add(LSTM(units = 50, return_sequences = True))\n",
    "regressor.add(Dropout(rate = 0.2))\n",
    "\n",
    "## Add 3rd lstm layer\n",
    "regressor.add(LSTM(units = 50, return_sequences = True))\n",
    "regressor.add(Dropout(rate = 0.2))\n",
    "\n",
    "## Add 4th lstm layer\n",
    "regressor.add(LSTM(units = 50, return_sequences = False))\n",
    "regressor.add(Dropout(rate = 0.2))"
   ]
  },
  {
   "cell_type": "code",
   "execution_count": 9,
   "id": "2ff144d4",
   "metadata": {},
   "outputs": [],
   "source": [
    "regressor.add(Dense(units = 1))"
   ]
  },
  {
   "cell_type": "code",
   "execution_count": 10,
   "id": "dd6090ad",
   "metadata": {},
   "outputs": [],
   "source": [
    "# Model compiling\n",
    "\n",
    "regressor.compile(optimizer = 'adam', loss = 'mean_squared_error')"
   ]
  },
  {
   "cell_type": "code",
   "execution_count": null,
   "id": "3dc98b09",
   "metadata": {},
   "outputs": [
    {
     "name": "stdout",
     "output_type": "stream",
     "text": [
      "Epoch 1/100\n",
      "38/38 [==============================] - 10s 91ms/step - loss: 0.0418\n",
      "Epoch 2/100\n",
      "38/38 [==============================] - 4s 92ms/step - loss: 0.0065\n",
      "Epoch 3/100\n",
      "38/38 [==============================] - 4s 93ms/step - loss: 0.0063\n",
      "Epoch 4/100\n",
      "38/38 [==============================] - 3s 91ms/step - loss: 0.0052\n",
      "Epoch 5/100\n",
      "38/38 [==============================] - 3s 81ms/step - loss: 0.0056\n",
      "Epoch 6/100\n",
      "38/38 [==============================] - 3s 79ms/step - loss: 0.0048\n",
      "Epoch 7/100\n",
      "38/38 [==============================] - 3s 85ms/step - loss: 0.0048\n",
      "Epoch 8/100\n",
      "38/38 [==============================] - 3s 79ms/step - loss: 0.0044\n",
      "Epoch 9/100\n",
      "38/38 [==============================] - 3s 79ms/step - loss: 0.0049\n",
      "Epoch 10/100\n",
      "38/38 [==============================] - 4s 110ms/step - loss: 0.0052\n",
      "Epoch 11/100\n",
      "38/38 [==============================] - 5s 120ms/step - loss: 0.0042\n",
      "Epoch 12/100\n",
      "38/38 [==============================] - 4s 116ms/step - loss: 0.0036\n",
      "Epoch 13/100\n",
      "38/38 [==============================] - 4s 93ms/step - loss: 0.0037\n",
      "Epoch 14/100\n",
      "38/38 [==============================] - 4s 100ms/step - loss: 0.0043\n",
      "Epoch 15/100\n",
      "38/38 [==============================] - 4s 96ms/step - loss: 0.0037\n",
      "Epoch 16/100\n",
      "38/38 [==============================] - 4s 110ms/step - loss: 0.0039\n",
      "Epoch 17/100\n",
      "38/38 [==============================] - 3s 86ms/step - loss: 0.0038\n",
      "Epoch 18/100\n",
      "38/38 [==============================] - 4s 103ms/step - loss: 0.0036\n",
      "Epoch 19/100\n",
      "38/38 [==============================] - 4s 106ms/step - loss: 0.0033\n",
      "Epoch 20/100\n",
      "38/38 [==============================] - 4s 97ms/step - loss: 0.0036\n",
      "Epoch 21/100\n",
      "38/38 [==============================] - 3s 82ms/step - loss: 0.0043\n",
      "Epoch 22/100\n",
      "38/38 [==============================] - 3s 88ms/step - loss: 0.0035\n",
      "Epoch 23/100\n",
      "38/38 [==============================] - 3s 91ms/step - loss: 0.0033\n",
      "Epoch 24/100\n",
      "38/38 [==============================] - 4s 96ms/step - loss: 0.0032\n",
      "Epoch 25/100\n",
      "38/38 [==============================] - 3s 73ms/step - loss: 0.0029\n",
      "Epoch 26/100\n",
      "38/38 [==============================] - 4s 99ms/step - loss: 0.0032\n",
      "Epoch 27/100\n",
      "38/38 [==============================] - 4s 98ms/step - loss: 0.0032\n",
      "Epoch 28/100\n",
      "38/38 [==============================] - 4s 93ms/step - loss: 0.0033\n",
      "Epoch 29/100\n",
      "38/38 [==============================] - 4s 96ms/step - loss: 0.0031\n",
      "Epoch 30/100\n",
      "38/38 [==============================] - 3s 90ms/step - loss: 0.0031\n",
      "Epoch 31/100\n",
      "38/38 [==============================] - 3s 91ms/step - loss: 0.0031\n",
      "Epoch 32/100\n",
      "38/38 [==============================] - 4s 94ms/step - loss: 0.0030\n",
      "Epoch 33/100\n",
      "38/38 [==============================] - 4s 105ms/step - loss: 0.0033\n",
      "Epoch 34/100\n",
      "38/38 [==============================] - 4s 99ms/step - loss: 0.0032\n",
      "Epoch 35/100\n",
      "38/38 [==============================] - 4s 97ms/step - loss: 0.0028\n",
      "Epoch 36/100\n",
      "38/38 [==============================] - 4s 113ms/step - loss: 0.0031\n",
      "Epoch 37/100\n",
      "38/38 [==============================] - 4s 98ms/step - loss: 0.0027\n",
      "Epoch 38/100\n",
      "38/38 [==============================] - 4s 94ms/step - loss: 0.0028\n",
      "Epoch 39/100\n",
      "38/38 [==============================] - 4s 113ms/step - loss: 0.0026\n",
      "Epoch 40/100\n",
      "38/38 [==============================] - 4s 97ms/step - loss: 0.0025\n",
      "Epoch 41/100\n",
      "38/38 [==============================] - 4s 101ms/step - loss: 0.0024\n",
      "Epoch 42/100\n",
      " 4/38 [==>...........................] - ETA: 3s - loss: 0.0022"
     ]
    }
   ],
   "source": [
    "# Model fitting\n",
    "\n",
    "regressor.fit(x = X_train, y = y_train, batch_size = 32, epochs = 100)"
   ]
  },
  {
   "cell_type": "code",
   "execution_count": null,
   "id": "5dc2e6fc",
   "metadata": {},
   "outputs": [],
   "source": [
    "dataset_test = pd.read_csv('Google_Stock_Price_Test.csv')\n",
    "real_stock_price = dataset_test.iloc[:, 1: 2].values"
   ]
  },
  {
   "cell_type": "code",
   "execution_count": null,
   "id": "48b0d29e",
   "metadata": {},
   "outputs": [],
   "source": [
    "# Data processing\n",
    "\n",
    "dataset_total = pd.concat((dataset_train['Open'],dataset_test['Open']), axis = 0)"
   ]
  },
  {
   "cell_type": "code",
   "execution_count": null,
   "id": "50087118",
   "metadata": {},
   "outputs": [],
   "source": [
    "inputs = dataset_total[len(dataset_total)-len(dataset_test)- 60: ].values"
   ]
  },
  {
   "cell_type": "code",
   "execution_count": null,
   "id": "e254e397",
   "metadata": {},
   "outputs": [],
   "source": [
    "inputs = inputs.reshape(-1, 1)"
   ]
  },
  {
   "cell_type": "code",
   "execution_count": null,
   "id": "81c3f145",
   "metadata": {},
   "outputs": [],
   "source": [
    "inputs = sc.transform(inputs)"
   ]
  },
  {
   "cell_type": "code",
   "execution_count": null,
   "id": "17ebf4cf",
   "metadata": {},
   "outputs": [],
   "source": [
    "X_test = []\n",
    "for i in range(60, len(inputs)): \n",
    "    X_test.append(inputs[i-60: i, 0])\n",
    "\n",
    "X_test = np.array(X_test)\n",
    "# Make numpy array as 3D , adding num of indicator\n",
    "X_test = np.reshape(X_test, newshape = (X_test.shape[0],  \n",
    "                    X_test.shape[1], 1))"
   ]
  },
  {
   "cell_type": "code",
   "execution_count": null,
   "id": "0b31ab32",
   "metadata": {},
   "outputs": [],
   "source": [
    "predicted_stock_price = regressor.predict(X_test)"
   ]
  },
  {
   "cell_type": "code",
   "execution_count": null,
   "id": "b1219c6e",
   "metadata": {},
   "outputs": [],
   "source": [
    "predicted_stock_price = sc.inverse_transform(predicted_stock_price)"
   ]
  },
  {
   "cell_type": "code",
   "execution_count": null,
   "id": "6d0e3092",
   "metadata": {},
   "outputs": [],
   "source": [
    "plt.plot(real_stock_price, color = 'red', label = 'Real price')\n",
    "plt.plot(predicted_stock_price, color = 'blue', label = 'Predicted price')\n",
    "plt.title('Google price prediction')\n",
    "plt.xlabel('Time')\n",
    "plt.ylabel('Price')\n",
    "plt.legend()\n",
    "plt.show()"
   ]
  },
  {
   "cell_type": "code",
   "execution_count": null,
   "id": "436c13e7",
   "metadata": {},
   "outputs": [],
   "source": []
  }
 ],
 "metadata": {
  "kernelspec": {
   "display_name": "Python 3 (ipykernel)",
   "language": "python",
   "name": "python3"
  },
  "language_info": {
   "codemirror_mode": {
    "name": "ipython",
    "version": 3
   },
   "file_extension": ".py",
   "mimetype": "text/x-python",
   "name": "python",
   "nbconvert_exporter": "python",
   "pygments_lexer": "ipython3",
   "version": "3.9.11"
  }
 },
 "nbformat": 4,
 "nbformat_minor": 5
}
